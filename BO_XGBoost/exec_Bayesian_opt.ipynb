{
 "cells": [
  {
   "cell_type": "code",
   "execution_count": 3,
   "metadata": {
    "collapsed": true
   },
   "outputs": [
    {
     "name": "stderr",
     "output_type": "stream",
     "text": [
      "Loading required package: dplyr\n",
      "\n",
      "Attaching package: ‘dplyr’\n",
      "\n",
      "The following objects are masked from ‘package:stats’:\n",
      "\n",
      "    filter, lag\n",
      "\n",
      "The following objects are masked from ‘package:base’:\n",
      "\n",
      "    intersect, setdiff, setequal, union\n",
      "\n",
      "Loading required package: ggplot2\n",
      "Loading required package: caret\n",
      "Loading required package: lattice\n",
      "\n",
      "Attaching package: ‘xgboost’\n",
      "\n",
      "The following object is masked from ‘package:dplyr’:\n",
      "\n",
      "    slice\n",
      "\n",
      "Loading required package: Matrix\n",
      "Loading required package: data.table\n",
      "\n",
      "Attaching package: ‘data.table’\n",
      "\n",
      "The following objects are masked from ‘package:dplyr’:\n",
      "\n",
      "    between, first, last\n",
      "\n",
      "Loading required package: gplots\n",
      "\n",
      "Attaching package: ‘gplots’\n",
      "\n",
      "The following object is masked from ‘package:stats’:\n",
      "\n",
      "    lowess\n",
      "\n"
     ]
    }
   ],
   "source": [
    "set.seed(123)\n",
    "\n",
    "require(dplyr)\n",
    "require(ggplot2)\n",
    "require(caret)\n",
    "library(bigrquery)\n",
    "library(httpuv)\n",
    "library(xgboost)\n",
    "require(Matrix)\n",
    "require(data.table)\n",
    "library(ROCR)"
   ]
  },
  {
   "cell_type": "code",
   "execution_count": 4,
   "metadata": {
    "collapsed": true
   },
   "outputs": [],
   "source": [
    "library(rBayesianOptimization)"
   ]
  },
  {
   "cell_type": "markdown",
   "metadata": {},
   "source": [
    "## make dataset of 2-class"
   ]
  },
  {
   "cell_type": "code",
   "execution_count": 5,
   "metadata": {
    "collapsed": true
   },
   "outputs": [],
   "source": [
    "## converting to 2 class\n",
    "convert_cnt2 <- function(x){\n",
    "    if(x>2) { return(1)\n",
    "    }else{return(0)}\n",
    "}"
   ]
  },
  {
   "cell_type": "code",
   "execution_count": 6,
   "metadata": {
    "collapsed": true
   },
   "outputs": [],
   "source": [
    "##　分析対象の遊び体験ユーザーの抽出　　##\n",
    "\n",
    "load(\"repeater_asb.Rdata\")\n",
    "\n",
    "\n",
    "dat_fil <- \n",
    "    dat_asb %>%\n",
    "    filter(f_year <= 2016) %>%\n",
    "    filter(age>=18 & age < 70) %>%\n",
    "    #filter(cnt ==1 | cnt > 3) %>%\n",
    "    filter(cnt <= 10) \n",
    "\n",
    "#重複データのドロップ\n",
    "dat_fil <- dat_fil[!duplicated(dat_fil$cap),]\n",
    "\n",
    "## $x$の作成\n",
    "\n",
    "load(file = \"asb_usr_jln_booking.Rdata\")\n",
    "\n",
    "## 　分析対象ユーザーのじゃらん使用状況　　##\n",
    "\n",
    "# じゃらんをアホみたいに多く使っているユーザーがいる（30回以上とか）ので、それらは除去\n",
    "dat_ovl_jln <- \n",
    "    dat_jln %>%\n",
    "    filter(c_checkout_total < 30 & c_checkout_total>= 4) %>%\n",
    "    filter(cap_member_id %in% dat_fil$cap) %>%\n",
    "    arrange(cap_member_id)\n",
    "\n",
    "# yの数をxの数に合わせる\n",
    "dat_ovl_asb <- \n",
    "    dat_fil %>%\n",
    "    filter(cap %in% dat_ovl_jln$cap_member_id) %>%\n",
    "    arrange(cap)\n",
    "\n",
    "# 回数になっているデータを割合変換\n",
    "dat_ovl_jln[,2:62] <- dat_ovl_jln[2:62]/dat_ovl_jln$c_checkout_total\n",
    "\n",
    "## 2-class化\n",
    "dat_set <-  cbind(dat_ovl_jln[ , -1], label = sapply(dat_ovl_asb$cnt,convert_cnt2) )\n",
    "dat_set[is.na(dat_set)] <- 0\n"
   ]
  },
  {
   "cell_type": "code",
   "execution_count": 8,
   "metadata": {},
   "outputs": [],
   "source": [
    "## make data\n",
    "dat <- dat_set\n",
    "num_dat <- nrow(dat)\n",
    "ind_train <- sample(num_dat, round(0.8 *num_dat) )\n",
    "df_train <- dat[ind_train, ]\n",
    "df_test <- dat[-ind_train, ]\n",
    "train.mx <- sparse.model.matrix(label~. , df_train)\n",
    "test.mx <- sparse.model.matrix(label~. , df_test)\n",
    "dtrain <- xgb.DMatrix( train.mx, label = df_train$label )\n",
    "dtest <- xgb.DMatrix( test.mx, label = df_test$label )\n",
    "weight <- nrow(filter(dat_set,label==0)) / nrow(filter(dat_set,label==1))"
   ]
  },
  {
   "cell_type": "code",
   "execution_count": 24,
   "metadata": {
    "collapsed": true
   },
   "outputs": [],
   "source": [
    "\n",
    "xgb_holdout <- function( ex, xweight, xdepth, nr ){\n",
    "    model <- xgb.train( \n",
    "        params = list( eta = ex/100, min_child_weight = xweight, max_depth = xdepth, gamma = 0.6, silent = 0, lambda = 2, objective = 'binary:logistic' ,\n",
    "              eval_metric = 'auc', scale_pos_weight = weight ,  subsample = 0.7, colsample_bytree = 0.7 ), data = dtrain, nrounds=nr ,nthread = 2)\n",
    "        \n",
    "        ##eval score\n",
    "        t.pred <- rbind (predict( model, newdata = dtest ) , df_test$label )\n",
    "        pred_roc <- prediction(t.pred[1,],t.pred[2,])\n",
    "        auc.tmp <- performance(pred_roc,\"auc\")\n",
    "        auc <- as.numeric(auc.tmp@y.values)\n",
    "        list( Score = auc , Pred = auc )\n",
    "}"
   ]
  },
  {
   "cell_type": "code",
   "execution_count": 25,
   "metadata": {
    "collapsed": true
   },
   "outputs": [],
   "source": [
    "## early stopping ver.\n",
    "\n",
    "watchlist <- list( eval = dtest, train = dtrain ) \n",
    "\n",
    "xgb_holdout2 <- function( ex, xweight, xdepth, nr, xg, xcol ){\n",
    "    model <- xgb.train( \n",
    "        params = list( eta = ex/100, min_child_weight = xweight, max_depth = xdepth, gamma = xg/10 ,##serch parameters \n",
    "                              colsample_bytree = xcol/50, ##serch parameters \n",
    "                              silent = 1, lambda = 2, objective = 'binary:logistic' ,\n",
    "                              eval_metric = 'auc', scale_pos_weight = weight ,  subsample = 0.7 ), \n",
    "                data = dtrain, nrounds=nr, nthread = 2,\n",
    "                early_stopping_rounds = 10, watchlist = watchlist)\n",
    "        \n",
    "        ##eval score\n",
    "        t.pred <- rbind (predict( model, newdata = dtest ) , df_test$label )\n",
    "        pred_roc <- prediction(t.pred[1,],t.pred[2,])\n",
    "        auc.tmp <- performance(pred_roc,\"auc\")\n",
    "        auc <- as.numeric(auc.tmp@y.values)\n",
    "        list( Score = auc , Pred = auc )\n",
    "}"
   ]
  },
  {
   "cell_type": "code",
   "execution_count": 26,
   "metadata": {},
   "outputs": [
    {
     "name": "stdout",
     "output_type": "stream",
     "text": [
      "elapsed = 216.08\tRound = 1\tex = 5.0000\txweight = 7.0000\txdepth = 9.0000\tnr = 477.0000\txg = 9.0000\txcol = 48.0000\tValue = 0.6650 \n",
      "elapsed = 146.21\tRound = 2\tex = 17.0000\txweight = 8.0000\txdepth = 6.0000\tnr = 479.0000\txg = 13.0000\txcol = 44.0000\tValue = 0.6518 \n",
      "elapsed = 148.93\tRound = 3\tex = 11.0000\txweight = 8.0000\txdepth = 4.0000\tnr = 660.0000\txg = 4.0000\txcol = 45.0000\tValue = 0.6704 \n",
      "elapsed = 120.00\tRound = 4\tex = 3.0000\txweight = 4.0000\txdepth = 4.0000\tnr = 546.0000\txg = 2.0000\txcol = 46.0000\tValue = 0.6949 \n",
      "elapsed = 68.68\tRound = 5\tex = 15.0000\txweight = 8.0000\txdepth = 3.0000\tnr = 453.0000\txg = 23.0000\txcol = 35.0000\tValue = 0.6750 \n",
      "elapsed = 44.91\tRound = 6\tex = 12.0000\txweight = 7.0000\txdepth = 8.0000\tnr = 106.0000\txg = 28.0000\txcol = 48.0000\tValue = 0.6668 \n",
      "elapsed = 97.03\tRound = 7\tex = 17.0000\txweight = 6.0000\txdepth = 4.0000\tnr = 508.0000\txg = 24.0000\txcol = 38.0000\tValue = 0.6670 \n",
      "elapsed = 178.81\tRound = 8\tex = 5.0000\txweight = 7.0000\txdepth = 6.0000\tnr = 665.0000\txg = 10.0000\txcol = 38.0000\tValue = 0.6775 \n",
      "elapsed = 177.29\tRound = 9\tex = 1.0000\txweight = 8.0000\txdepth = 7.0000\tnr = 518.0000\txg = 28.0000\txcol = 42.0000\tValue = 0.6947 \n",
      "elapsed = 223.43\tRound = 10\tex = 8.0000\txweight = 7.0000\txdepth = 6.0000\tnr = 803.0000\txg = 10.0000\txcol = 38.0000\tValue = 0.6655 \n",
      "elapsed = 150.56\tRound = 11\tex = 14.0000\txweight = 4.0000\txdepth = 5.0000\tnr = 611.0000\txg = 29.0000\txcol = 41.0000\tValue = 0.6575 \n",
      "elapsed = 55.89\tRound = 12\tex = 13.0000\txweight = 5.0000\txdepth = 4.0000\tnr = 255.0000\txg = 13.0000\txcol = 46.0000\tValue = 0.6729 \n",
      "elapsed = 119.18\tRound = 13\tex = 13.0000\txweight = 7.0000\txdepth = 5.0000\tnr = 545.0000\txg = 26.0000\txcol = 35.0000\tValue = 0.6587 \n",
      "elapsed = 10.61\tRound = 14\tex = 7.0000\txweight = 8.0000\txdepth = 5.0000\tnr = 45.0000\txg = 28.0000\txcol = 39.0000\tValue = 0.6917 \n",
      "elapsed = 120.24\tRound = 15\tex = 11.0000\txweight = 7.0000\txdepth = 9.0000\tnr = 919.0000\txg = 19.0000\txcol = 47.0000\tValue = 0.6501 \n",
      "elapsed = 82.50\tRound = 16\tex = 19.0000\txweight = 8.0000\txdepth = 9.0000\tnr = 686.0000\txg = 28.0000\txcol = 45.0000\tValue = 0.6383 \n",
      "elapsed = 114.61\tRound = 17\tex = 15.0000\txweight = 7.0000\txdepth = 8.0000\tnr = 469.0000\txg = 5.0000\txcol = 49.0000\tValue = 0.6503 \n",
      "elapsed = 381.01\tRound = 18\tex = 2.0000\txweight = 5.0000\txdepth = 10.0000\tnr = 966.0000\txg = 7.0000\txcol = 50.0000\tValue = 0.6744 \n",
      "elapsed = 180.50\tRound = 19\tex = 10.0000\txweight = 6.0000\txdepth = 7.0000\tnr = 835.0000\txg = 2.0000\txcol = 46.0000\tValue = 0.6514 \n",
      "elapsed = 48.41\tRound = 20\tex = 16.0000\txweight = 4.0000\txdepth = 7.0000\tnr = 155.0000\txg = 3.0000\txcol = 37.0000\tValue = 0.6437 \n",
      "elapsed = 5.10\tRound = 21\tex = 1.0000\txweight = 7.0000\txdepth = 3.0000\tnr = 30.0000\txg = 30.0000\txcol = 44.0000\tValue = 0.6732 \n",
      "\n",
      " Best Parameters Found: \n",
      "Round = 4\tex = 3.0000\txweight = 4.0000\txdepth = 4.0000\tnr = 546.0000\txg = 2.0000\txcol = 46.0000\tValue = 0.6949 \n"
     ]
    }
   ],
   "source": [
    "opt_xgb <- rBayesianOptimization :: BayesianOptimization(xgb_holdout2,\n",
    "                                                        bounds = list(ex = c(1L,20L), xweight = c(3L, 10L), xdepth = c(3L , 10L), nr = c(30L,1000L), \n",
    "                                                                     xg = c(1L, 30L), xcol = c(35L, 50L)),\n",
    "                                                         init_points = 20, n_iter = 1, acq = \"ei\" , kappa = 2.576 , eps = 0.0 ,verbose = TRUE\n",
    "                                                        )"
   ]
  },
  {
   "cell_type": "code",
   "execution_count": null,
   "metadata": {
    "collapsed": true
   },
   "outputs": [],
   "source": []
  }
 ],
 "metadata": {
  "kernelspec": {
   "display_name": "R",
   "language": "R",
   "name": "ir"
  },
  "language_info": {
   "codemirror_mode": "r",
   "file_extension": ".r",
   "mimetype": "text/x-r-source",
   "name": "R",
   "pygments_lexer": "r",
   "version": "3.4.3"
  }
 },
 "nbformat": 4,
 "nbformat_minor": 2
}
